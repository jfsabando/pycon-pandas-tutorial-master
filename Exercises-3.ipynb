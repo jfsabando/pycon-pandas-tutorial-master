{
 "cells": [
  {
   "cell_type": "code",
   "execution_count": 2,
   "metadata": {
    "collapsed": false
   },
   "outputs": [],
   "source": [
    "%matplotlib inline\n",
    "import pandas as pd"
   ]
  },
  {
   "cell_type": "code",
   "execution_count": 3,
   "metadata": {
    "collapsed": false
   },
   "outputs": [
    {
     "data": {
      "text/html": [
       "<style>body {\n",
       "    margin: 0;\n",
       "    font-family: Helvetica;\n",
       "}\n",
       "table.dataframe {\n",
       "    border-collapse: collapse;\n",
       "    border: none;\n",
       "}\n",
       "table.dataframe tr {\n",
       "    border: none;\n",
       "}\n",
       "table.dataframe td, table.dataframe th {\n",
       "    margin: 0;\n",
       "    border: 1px solid white;\n",
       "    padding-left: 0.25em;\n",
       "    padding-right: 0.25em;\n",
       "}\n",
       "table.dataframe th:not(:empty) {\n",
       "    background-color: #fec;\n",
       "    text-align: left;\n",
       "    font-weight: normal;\n",
       "}\n",
       "table.dataframe tr:nth-child(2) th:empty {\n",
       "    border-left: none;\n",
       "    border-right: 1px dashed #888;\n",
       "}\n",
       "table.dataframe td {\n",
       "    border: 2px solid #ccf;\n",
       "    background-color: #f4f4ff;\n",
       "}\n",
       "h3 {\n",
       "    color: white;\n",
       "    background-color: black;\n",
       "    padding: 0.5em;\n",
       "}\n",
       "</style>"
      ],
      "text/plain": [
       "<IPython.core.display.HTML object>"
      ]
     },
     "execution_count": 3,
     "metadata": {},
     "output_type": "execute_result"
    }
   ],
   "source": [
    "from IPython.core.display import HTML\n",
    "css = open('style-table.css').read() + open('style-notebook.css').read()\n",
    "HTML('<style>{}</style>'.format(css))"
   ]
  },
  {
   "cell_type": "code",
   "execution_count": 4,
   "metadata": {
    "collapsed": false
   },
   "outputs": [
    {
     "data": {
      "text/html": [
       "<div>\n",
       "<table border=\"1\" class=\"dataframe\">\n",
       "  <thead>\n",
       "    <tr style=\"text-align: right;\">\n",
       "      <th></th>\n",
       "      <th>title</th>\n",
       "      <th>year</th>\n",
       "    </tr>\n",
       "  </thead>\n",
       "  <tbody>\n",
       "    <tr>\n",
       "      <th>0</th>\n",
       "      <td>The Rising Son</td>\n",
       "      <td>1990</td>\n",
       "    </tr>\n",
       "    <tr>\n",
       "      <th>1</th>\n",
       "      <td>The Thousand Plane Raid</td>\n",
       "      <td>1969</td>\n",
       "    </tr>\n",
       "    <tr>\n",
       "      <th>2</th>\n",
       "      <td>Crucea de piatra</td>\n",
       "      <td>1993</td>\n",
       "    </tr>\n",
       "    <tr>\n",
       "      <th>3</th>\n",
       "      <td>Country</td>\n",
       "      <td>2000</td>\n",
       "    </tr>\n",
       "    <tr>\n",
       "      <th>4</th>\n",
       "      <td>Gaiking II</td>\n",
       "      <td>2011</td>\n",
       "    </tr>\n",
       "  </tbody>\n",
       "</table>\n",
       "</div>"
      ],
      "text/plain": [
       "                     title  year\n",
       "0           The Rising Son  1990\n",
       "1  The Thousand Plane Raid  1969\n",
       "2         Crucea de piatra  1993\n",
       "3                  Country  2000\n",
       "4               Gaiking II  2011"
      ]
     },
     "execution_count": 4,
     "metadata": {},
     "output_type": "execute_result"
    }
   ],
   "source": [
    "titles = pd.DataFrame.from_csv('data/titles.csv', index_col=None)\n",
    "titles.head()"
   ]
  },
  {
   "cell_type": "code",
   "execution_count": 5,
   "metadata": {
    "collapsed": false
   },
   "outputs": [
    {
     "data": {
      "text/html": [
       "<div>\n",
       "<table border=\"1\" class=\"dataframe\">\n",
       "  <thead>\n",
       "    <tr style=\"text-align: right;\">\n",
       "      <th></th>\n",
       "      <th>title</th>\n",
       "      <th>year</th>\n",
       "      <th>name</th>\n",
       "      <th>type</th>\n",
       "      <th>character</th>\n",
       "      <th>n</th>\n",
       "    </tr>\n",
       "  </thead>\n",
       "  <tbody>\n",
       "    <tr>\n",
       "      <th>0</th>\n",
       "      <td>Closet Monster</td>\n",
       "      <td>2015</td>\n",
       "      <td>Buffy #1</td>\n",
       "      <td>actor</td>\n",
       "      <td>Buffy 4</td>\n",
       "      <td>31.0</td>\n",
       "    </tr>\n",
       "    <tr>\n",
       "      <th>1</th>\n",
       "      <td>Suuri illusioni</td>\n",
       "      <td>1985</td>\n",
       "      <td>Homo $</td>\n",
       "      <td>actor</td>\n",
       "      <td>Guests</td>\n",
       "      <td>22.0</td>\n",
       "    </tr>\n",
       "    <tr>\n",
       "      <th>2</th>\n",
       "      <td>Battle of the Sexes</td>\n",
       "      <td>2017</td>\n",
       "      <td>$hutter</td>\n",
       "      <td>actor</td>\n",
       "      <td>Bobby Riggs Fan</td>\n",
       "      <td>10.0</td>\n",
       "    </tr>\n",
       "    <tr>\n",
       "      <th>3</th>\n",
       "      <td>Secret in Their Eyes</td>\n",
       "      <td>2015</td>\n",
       "      <td>$hutter</td>\n",
       "      <td>actor</td>\n",
       "      <td>2002 Dodger Fan</td>\n",
       "      <td>NaN</td>\n",
       "    </tr>\n",
       "    <tr>\n",
       "      <th>4</th>\n",
       "      <td>Steve Jobs</td>\n",
       "      <td>2015</td>\n",
       "      <td>$hutter</td>\n",
       "      <td>actor</td>\n",
       "      <td>1988 Opera House Patron</td>\n",
       "      <td>NaN</td>\n",
       "    </tr>\n",
       "  </tbody>\n",
       "</table>\n",
       "</div>"
      ],
      "text/plain": [
       "                  title  year      name   type                character     n\n",
       "0        Closet Monster  2015  Buffy #1  actor                  Buffy 4  31.0\n",
       "1       Suuri illusioni  1985    Homo $  actor                   Guests  22.0\n",
       "2   Battle of the Sexes  2017   $hutter  actor          Bobby Riggs Fan  10.0\n",
       "3  Secret in Their Eyes  2015   $hutter  actor          2002 Dodger Fan   NaN\n",
       "4            Steve Jobs  2015   $hutter  actor  1988 Opera House Patron   NaN"
      ]
     },
     "execution_count": 5,
     "metadata": {},
     "output_type": "execute_result"
    }
   ],
   "source": [
    "cast = pd.DataFrame.from_csv('data/cast.csv', index_col=None)\n",
    "cast.head()"
   ]
  },
  {
   "cell_type": "code",
   "execution_count": null,
   "metadata": {
    "collapsed": false
   },
   "outputs": [],
   "source": []
  },
  {
   "cell_type": "markdown",
   "metadata": {
    "collapsed": true
   },
   "source": [
    "### Using groupby(), plot the number of films that have been released each decade in the history of cinema."
   ]
  },
  {
   "cell_type": "code",
   "execution_count": 6,
   "metadata": {
    "collapsed": false
   },
   "outputs": [
    {
     "data": {
      "text/plain": [
       "<matplotlib.axes._subplots.AxesSubplot at 0x136eabb38>"
      ]
     },
     "execution_count": 6,
     "metadata": {},
     "output_type": "execute_result"
    },
    {
     "data": {
      "image/png": "[encoded data removed]",
      "text/plain": [
       "<matplotlib.figure.Figure at 0x112c78710>"
      ]
     },
     "metadata": {},
     "output_type": "display_data"
    }
   ],
   "source": [
    "t = titles\n",
    "#t.head()\n",
    "t.groupby(t.year // 10 * 10).size().plot(kind = 'bar')"
   ]
  },
  {
   "cell_type": "code",
   "execution_count": null,
   "metadata": {
    "collapsed": true
   },
   "outputs": [],
   "source": []
  },
  {
   "cell_type": "markdown",
   "metadata": {
    "collapsed": true
   },
   "source": [
    "### Use groupby() to plot the number of \"Hamlet\" films made each decade."
   ]
  },
  {
   "cell_type": "code",
   "execution_count": 7,
   "metadata": {
    "collapsed": false
   },
   "outputs": [
    {
     "data": {
      "text/plain": [
       "<matplotlib.axes._subplots.AxesSubplot at 0x10aa36e10>"
      ]
     },
     "execution_count": 7,
     "metadata": {},
     "output_type": "execute_result"
    },
    {
     "data": {
      "image/png": "[encoded data removed]",
      "text/plain": [
       "<matplotlib.figure.Figure at 0x136eab5f8>"
      ]
     },
     "metadata": {},
     "output_type": "display_data"
    }
   ],
   "source": [
    "t = titles\n",
    "#t.head()\n",
    "t = t[t['title'] == 'Hamlet']\n",
    "t.groupby(t.year // 10 * 10).size().plot(kind = 'bar')"
   ]
  },
  {
   "cell_type": "code",
   "execution_count": null,
   "metadata": {
    "collapsed": true
   },
   "outputs": [],
   "source": []
  },
  {
   "cell_type": "code",
   "execution_count": null,
   "metadata": {
    "collapsed": true
   },
   "outputs": [],
   "source": []
  },
  {
   "cell_type": "markdown",
   "metadata": {
    "collapsed": true
   },
   "source": [
    "### How many leading (n=1) roles were available to actors, and how many to actresses, in each year of the 1950s?"
   ]
  },
  {
   "cell_type": "code",
   "execution_count": 8,
   "metadata": {
    "collapsed": false
   },
   "outputs": [
    {
     "data": {
      "text/plain": [
       "year  type   \n",
       "1950  actor      626\n",
       "      actress    281\n",
       "1951  actor      647\n",
       "      actress    282\n",
       "1952  actor      607\n",
       "      actress    293\n",
       "1953  actor      651\n",
       "      actress    302\n",
       "1954  actor      639\n",
       "      actress    310\n",
       "1955  actor      640\n",
       "      actress    282\n",
       "1956  actor      643\n",
       "      actress    305\n",
       "1957  actor      735\n",
       "      actress    302\n",
       "1958  actor      710\n",
       "      actress    295\n",
       "1959  actor      722\n",
       "      actress    317\n",
       "dtype: int64"
      ]
     },
     "execution_count": 8,
     "metadata": {},
     "output_type": "execute_result"
    }
   ],
   "source": [
    "c = cast\n",
    "c = c[c.year // 10 * 10 == 1950]\n",
    "c = c[c.n == 1]\n",
    "c.groupby(['year', 'type']).size()"
   ]
  },
  {
   "cell_type": "code",
   "execution_count": null,
   "metadata": {
    "collapsed": true
   },
   "outputs": [],
   "source": []
  },
  {
   "cell_type": "markdown",
   "metadata": {
    "collapsed": true
   },
   "source": [
    "### In the 1950s decade taken as a whole, how many total roles were available to actors, and how many to actresses, for each \"n\" number 1 through 5?"
   ]
  },
  {
   "cell_type": "code",
   "execution_count": 9,
   "metadata": {
    "collapsed": false
   },
   "outputs": [
    {
     "data": {
      "text/plain": [
       "n    type   \n",
       "1.0  actor      6620\n",
       "     actress    2969\n",
       "2.0  actor      4568\n",
       "     actress    4561\n",
       "3.0  actor      5592\n",
       "     actress    3151\n",
       "4.0  actor      5595\n",
       "     actress    2849\n",
       "5.0  actor      5613\n",
       "     actress    2544\n",
       "dtype: int64"
      ]
     },
     "execution_count": 9,
     "metadata": {},
     "output_type": "execute_result"
    }
   ],
   "source": [
    "c = cast\n",
    "c = c[c.year // 10 == 195]\n",
    "c = c[(c.n >= 1) & (c.n <= 5)] #or c.n < 6\n",
    "c.groupby(['n', 'type']).size()"
   ]
  },
  {
   "cell_type": "code",
   "execution_count": null,
   "metadata": {
    "collapsed": true
   },
   "outputs": [],
   "source": []
  },
  {
   "cell_type": "code",
   "execution_count": null,
   "metadata": {
    "collapsed": true
   },
   "outputs": [],
   "source": []
  },
  {
   "cell_type": "markdown",
   "metadata": {
    "collapsed": true
   },
   "source": [
    "### Use groupby() to determine how many roles are listed for each of the The Pink Panther movies."
   ]
  },
  {
   "cell_type": "code",
   "execution_count": 12,
   "metadata": {
    "collapsed": false
   },
   "outputs": [
    {
     "data": {
      "text/html": [
       "<div>\n",
       "<table border=\"1\" class=\"dataframe\">\n",
       "  <thead>\n",
       "    <tr style=\"text-align: right;\">\n",
       "      <th></th>\n",
       "      <th>n</th>\n",
       "    </tr>\n",
       "    <tr>\n",
       "      <th>year</th>\n",
       "      <th></th>\n",
       "    </tr>\n",
       "  </thead>\n",
       "  <tbody>\n",
       "    <tr>\n",
       "      <th>1963</th>\n",
       "      <td>15.0</td>\n",
       "    </tr>\n",
       "    <tr>\n",
       "      <th>2006</th>\n",
       "      <td>50.0</td>\n",
       "    </tr>\n",
       "  </tbody>\n",
       "</table>\n",
       "</div>"
      ],
      "text/plain": [
       "         n\n",
       "year      \n",
       "1963  15.0\n",
       "2006  50.0"
      ]
     },
     "execution_count": 12,
     "metadata": {},
     "output_type": "execute_result"
    }
   ],
   "source": [
    "c = cast\n",
    "c = c[c.title == 'The Pink Panther']\n",
    "# c.groupby(['year']).size()\n",
    "c.sort_values('n').groupby(['year'])[['n']].max()"
   ]
  },
  {
   "cell_type": "code",
   "execution_count": null,
   "metadata": {
    "collapsed": true
   },
   "outputs": [],
   "source": []
  },
  {
   "cell_type": "markdown",
   "metadata": {
    "collapsed": true
   },
   "source": [
    "### List, in order by year, each of the films in which Frank Oz has played more than 1 role."
   ]
  },
  {
   "cell_type": "code",
   "execution_count": 109,
   "metadata": {
    "collapsed": false
   },
   "outputs": [
    {
     "data": {
      "text/plain": [
       "year  title                               \n",
       "1979  The Muppet Movie                        8\n",
       "1981  An American Werewolf in London          2\n",
       "      The Great Muppet Caper                  6\n",
       "1982  The Dark Crystal                        2\n",
       "1984  The Muppets Take Manhattan              7\n",
       "1985  Follow That Bird                        3\n",
       "1992  The Muppet Christmas Carol              7\n",
       "1996  Muppet Treasure Island                  4\n",
       "1999  Muppets from Space                      4\n",
       "      The Adventures of Elmo in Grouchland    3\n",
       "dtype: int64"
      ]
     },
     "execution_count": 109,
     "metadata": {},
     "output_type": "execute_result"
    }
   ],
   "source": [
    "c = cast\n",
    "c = c[c.name == 'Frank Oz'].sort_values('year')\n",
    "g = c.groupby(['year', 'title']).size()\n",
    "g[g > 1]"
   ]
  },
  {
   "cell_type": "code",
   "execution_count": null,
   "metadata": {
    "collapsed": true
   },
   "outputs": [],
   "source": []
  },
  {
   "cell_type": "code",
   "execution_count": null,
   "metadata": {
    "collapsed": true
   },
   "outputs": [],
   "source": []
  },
  {
   "cell_type": "markdown",
   "metadata": {
    "collapsed": true
   },
   "source": [
    "### List each of the characters that Frank Oz has portrayed at least twice."
   ]
  },
  {
   "cell_type": "code",
   "execution_count": 115,
   "metadata": {
    "collapsed": false
   },
   "outputs": [
    {
     "data": {
      "text/plain": [
       "character\n",
       "Grover            2\n",
       "Bert              3\n",
       "Cookie Monster    3\n",
       "Fozzie Bear       4\n",
       "Sam the Eagle     5\n",
       "Animal            6\n",
       "Miss Piggy        6\n",
       "Yoda              6\n",
       "dtype: int64"
      ]
     },
     "execution_count": 115,
     "metadata": {},
     "output_type": "execute_result"
    }
   ],
   "source": [
    "c = cast\n",
    "c = c[c.name == 'Frank Oz']\n",
    "c = c.groupby(['character']).size()\n",
    "c[c > 1].sort_values()"
   ]
  },
  {
   "cell_type": "code",
   "execution_count": null,
   "metadata": {
    "collapsed": true
   },
   "outputs": [],
   "source": []
  },
  {
   "cell_type": "code",
   "execution_count": null,
   "metadata": {
    "collapsed": true
   },
   "outputs": [],
   "source": []
  },
  {
   "cell_type": "code",
   "execution_count": null,
   "metadata": {
    "collapsed": true
   },
   "outputs": [],
   "source": []
  },
  {
   "cell_type": "code",
   "execution_count": null,
   "metadata": {
    "collapsed": true
   },
   "outputs": [],
   "source": []
  },
  {
   "cell_type": "code",
   "execution_count": null,
   "metadata": {
    "collapsed": true
   },
   "outputs": [],
   "source": []
  },
  {
   "cell_type": "code",
   "execution_count": null,
   "metadata": {
    "collapsed": true
   },
   "outputs": [],
   "source": []
  },
  {
   "cell_type": "code",
   "execution_count": null,
   "metadata": {
    "collapsed": true
   },
   "outputs": [],
   "source": []
  },
  {
   "cell_type": "code",
   "execution_count": null,
   "metadata": {
    "collapsed": true
   },
   "outputs": [],
   "source": []
  },
  {
   "cell_type": "code",
   "execution_count": null,
   "metadata": {
    "collapsed": true
   },
   "outputs": [],
   "source": []
  },
  {
   "cell_type": "code",
   "execution_count": null,
   "metadata": {
    "collapsed": true
   },
   "outputs": [],
   "source": []
  },
  {
   "cell_type": "code",
   "execution_count": null,
   "metadata": {
    "collapsed": true
   },
   "outputs": [],
   "source": []
  },
  {
   "cell_type": "code",
   "execution_count": null,
   "metadata": {
    "collapsed": true
   },
   "outputs": [],
   "source": []
  },
  {
   "cell_type": "markdown",
   "metadata": {},
   "source": [
    "## PRACTICE PART - WORKING WITH INDEXES"
   ]
  },
  {
   "cell_type": "code",
   "execution_count": 9,
   "metadata": {
    "collapsed": false
   },
   "outputs": [
    {
     "data": {
      "text/plain": [
       "3638844"
      ]
     },
     "execution_count": 9,
     "metadata": {},
     "output_type": "execute_result"
    }
   ],
   "source": [
    "len(cast)"
   ]
  },
  {
   "cell_type": "code",
   "execution_count": 38,
   "metadata": {
    "collapsed": false
   },
   "outputs": [
    {
     "name": "stdout",
     "output_type": "stream",
     "text": [
      "CPU times: user 229 ms, sys: 4.06 ms, total: 233 ms\n",
      "Wall time: 235 ms\n"
     ]
    }
   ],
   "source": [
    "%%time\n",
    "c = cast[cast.title == 'Sleuth'] #this is 4 million questions implicitly\n",
    "c.head()"
   ]
  },
  {
   "cell_type": "code",
   "execution_count": null,
   "metadata": {
    "collapsed": true
   },
   "outputs": [],
   "source": []
  },
  {
   "cell_type": "code",
   "execution_count": 46,
   "metadata": {
    "collapsed": false
   },
   "outputs": [
    {
     "data": {
      "text/html": [
       "<div>\n",
       "<table border=\"1\" class=\"dataframe\">\n",
       "  <thead>\n",
       "    <tr style=\"text-align: right;\">\n",
       "      <th></th>\n",
       "      <th></th>\n",
       "      <th>name</th>\n",
       "      <th>type</th>\n",
       "      <th>character</th>\n",
       "      <th>n</th>\n",
       "    </tr>\n",
       "    <tr>\n",
       "      <th>title</th>\n",
       "      <th>year</th>\n",
       "      <th></th>\n",
       "      <th></th>\n",
       "      <th></th>\n",
       "      <th></th>\n",
       "    </tr>\n",
       "  </thead>\n",
       "  <tbody>\n",
       "    <tr>\n",
       "      <th rowspan=\"5\" valign=\"top\">#1 Serial Killer</th>\n",
       "      <th>2013</th>\n",
       "      <td>Michael Alton</td>\n",
       "      <td>actor</td>\n",
       "      <td>Detective Roberts</td>\n",
       "      <td>17.0</td>\n",
       "    </tr>\n",
       "    <tr>\n",
       "      <th>2013</th>\n",
       "      <td>Aaron Aoki</td>\n",
       "      <td>actor</td>\n",
       "      <td>Plastic Bag Victim</td>\n",
       "      <td>21.0</td>\n",
       "    </tr>\n",
       "    <tr>\n",
       "      <th>2013</th>\n",
       "      <td>Zachary (X) Brown</td>\n",
       "      <td>actor</td>\n",
       "      <td>Africian American Teen</td>\n",
       "      <td>18.0</td>\n",
       "    </tr>\n",
       "    <tr>\n",
       "      <th>2013</th>\n",
       "      <td>Yvis Cannavale</td>\n",
       "      <td>actor</td>\n",
       "      <td>Homeless Man</td>\n",
       "      <td>25.0</td>\n",
       "    </tr>\n",
       "    <tr>\n",
       "      <th>2013</th>\n",
       "      <td>Patrick Chien</td>\n",
       "      <td>actor</td>\n",
       "      <td>Cleaver Victim</td>\n",
       "      <td>22.0</td>\n",
       "    </tr>\n",
       "  </tbody>\n",
       "</table>\n",
       "</div>"
      ],
      "text/plain": [
       "                                    name   type               character     n\n",
       "title            year                                                        \n",
       "#1 Serial Killer 2013      Michael Alton  actor       Detective Roberts  17.0\n",
       "                 2013         Aaron Aoki  actor      Plastic Bag Victim  21.0\n",
       "                 2013  Zachary (X) Brown  actor  Africian American Teen  18.0\n",
       "                 2013     Yvis Cannavale  actor            Homeless Man  25.0\n",
       "                 2013      Patrick Chien  actor          Cleaver Victim  22.0"
      ]
     },
     "execution_count": 46,
     "metadata": {},
     "output_type": "execute_result"
    }
   ],
   "source": [
    "c = cast.set_index(['title']).sort_index()\n",
    "#here we take some time ordering, but later it will be better for using .loc\n",
    "c.head()"
   ]
  },
  {
   "cell_type": "code",
   "execution_count": 44,
   "metadata": {
    "collapsed": false
   },
   "outputs": [
    {
     "name": "stdout",
     "output_type": "stream",
     "text": [
      "CPU times: user 827 µs, sys: 196 µs, total: 1.02 ms\n",
      "Wall time: 901 µs\n"
     ]
    },
    {
     "data": {
      "text/html": [
       "<div>\n",
       "<table border=\"1\" class=\"dataframe\">\n",
       "  <thead>\n",
       "    <tr style=\"text-align: right;\">\n",
       "      <th></th>\n",
       "      <th>year</th>\n",
       "      <th>name</th>\n",
       "      <th>type</th>\n",
       "      <th>character</th>\n",
       "      <th>n</th>\n",
       "    </tr>\n",
       "    <tr>\n",
       "      <th>title</th>\n",
       "      <th></th>\n",
       "      <th></th>\n",
       "      <th></th>\n",
       "      <th></th>\n",
       "      <th></th>\n",
       "    </tr>\n",
       "  </thead>\n",
       "  <tbody>\n",
       "    <tr>\n",
       "      <th>Star Wars</th>\n",
       "      <td>1977</td>\n",
       "      <td>Ted Burnett</td>\n",
       "      <td>actor</td>\n",
       "      <td>Wuher</td>\n",
       "      <td>NaN</td>\n",
       "    </tr>\n",
       "    <tr>\n",
       "      <th>Star Wars</th>\n",
       "      <td>1977</td>\n",
       "      <td>Peter Cushing</td>\n",
       "      <td>actor</td>\n",
       "      <td>Grand Moff Tarkin</td>\n",
       "      <td>4.0</td>\n",
       "    </tr>\n",
       "    <tr>\n",
       "      <th>Star Wars</th>\n",
       "      <td>1977</td>\n",
       "      <td>Rusty Goffe</td>\n",
       "      <td>actor</td>\n",
       "      <td>Kabe</td>\n",
       "      <td>NaN</td>\n",
       "    </tr>\n",
       "    <tr>\n",
       "      <th>Star Wars</th>\n",
       "      <td>1977</td>\n",
       "      <td>Mahjoub</td>\n",
       "      <td>actor</td>\n",
       "      <td>Jawa</td>\n",
       "      <td>NaN</td>\n",
       "    </tr>\n",
       "    <tr>\n",
       "      <th>Star Wars</th>\n",
       "      <td>1977</td>\n",
       "      <td>Harold Weed</td>\n",
       "      <td>actor</td>\n",
       "      <td>Ketwol</td>\n",
       "      <td>NaN</td>\n",
       "    </tr>\n",
       "    <tr>\n",
       "      <th>Star Wars</th>\n",
       "      <td>1977</td>\n",
       "      <td>James Earl Jones</td>\n",
       "      <td>actor</td>\n",
       "      <td>Darth Vader</td>\n",
       "      <td>NaN</td>\n",
       "    </tr>\n",
       "    <tr>\n",
       "      <th>Star Wars</th>\n",
       "      <td>1977</td>\n",
       "      <td>Lorne Peterson</td>\n",
       "      <td>actor</td>\n",
       "      <td>Massassi Base Rebel Scout</td>\n",
       "      <td>NaN</td>\n",
       "    </tr>\n",
       "    <tr>\n",
       "      <th>Star Wars</th>\n",
       "      <td>1977</td>\n",
       "      <td>Rusty Goffe</td>\n",
       "      <td>actor</td>\n",
       "      <td>GONK Droid</td>\n",
       "      <td>NaN</td>\n",
       "    </tr>\n",
       "    <tr>\n",
       "      <th>Star Wars</th>\n",
       "      <td>1977</td>\n",
       "      <td>Mark Anthony Austin</td>\n",
       "      <td>actor</td>\n",
       "      <td>Boba Fett (special edition)</td>\n",
       "      <td>NaN</td>\n",
       "    </tr>\n",
       "    <tr>\n",
       "      <th>Star Wars</th>\n",
       "      <td>1977</td>\n",
       "      <td>Rusty Goffe</td>\n",
       "      <td>actor</td>\n",
       "      <td>Jawa</td>\n",
       "      <td>NaN</td>\n",
       "    </tr>\n",
       "    <tr>\n",
       "      <th>Star Wars</th>\n",
       "      <td>1977</td>\n",
       "      <td>Isaac Grand</td>\n",
       "      <td>actor</td>\n",
       "      <td>Cantina Patron</td>\n",
       "      <td>NaN</td>\n",
       "    </tr>\n",
       "    <tr>\n",
       "      <th>Star Wars</th>\n",
       "      <td>1977</td>\n",
       "      <td>Angela Staines</td>\n",
       "      <td>actress</td>\n",
       "      <td>Senni Tonnika</td>\n",
       "      <td>NaN</td>\n",
       "    </tr>\n",
       "    <tr>\n",
       "      <th>Star Wars</th>\n",
       "      <td>1977</td>\n",
       "      <td>Arthur (II) Howell</td>\n",
       "      <td>actor</td>\n",
       "      <td>Stormtrooper</td>\n",
       "      <td>NaN</td>\n",
       "    </tr>\n",
       "    <tr>\n",
       "      <th>Star Wars</th>\n",
       "      <td>1977</td>\n",
       "      <td>Tiffany L. Kurtz</td>\n",
       "      <td>actress</td>\n",
       "      <td>Jawa</td>\n",
       "      <td>NaN</td>\n",
       "    </tr>\n",
       "    <tr>\n",
       "      <th>Star Wars</th>\n",
       "      <td>1977</td>\n",
       "      <td>Melissa Kurtz</td>\n",
       "      <td>actress</td>\n",
       "      <td>Jawa</td>\n",
       "      <td>NaN</td>\n",
       "    </tr>\n",
       "    <tr>\n",
       "      <th>Star Wars</th>\n",
       "      <td>1977</td>\n",
       "      <td>Janice Burchette</td>\n",
       "      <td>actress</td>\n",
       "      <td>Nabrun Leids</td>\n",
       "      <td>NaN</td>\n",
       "    </tr>\n",
       "    <tr>\n",
       "      <th>Star Wars</th>\n",
       "      <td>1977</td>\n",
       "      <td>Richard LeParmentier</td>\n",
       "      <td>actor</td>\n",
       "      <td>General Motti</td>\n",
       "      <td>25.0</td>\n",
       "    </tr>\n",
       "    <tr>\n",
       "      <th>Star Wars</th>\n",
       "      <td>1977</td>\n",
       "      <td>George Stock</td>\n",
       "      <td>actor</td>\n",
       "      <td>Cantina Patron</td>\n",
       "      <td>NaN</td>\n",
       "    </tr>\n",
       "    <tr>\n",
       "      <th>Star Wars</th>\n",
       "      <td>1977</td>\n",
       "      <td>Geoffrey Moon</td>\n",
       "      <td>actor</td>\n",
       "      <td>Cantina Patron</td>\n",
       "      <td>NaN</td>\n",
       "    </tr>\n",
       "    <tr>\n",
       "      <th>Star Wars</th>\n",
       "      <td>1977</td>\n",
       "      <td>Shane Rimmer</td>\n",
       "      <td>actor</td>\n",
       "      <td>InCom Engineer</td>\n",
       "      <td>NaN</td>\n",
       "    </tr>\n",
       "    <tr>\n",
       "      <th>Star Wars</th>\n",
       "      <td>1977</td>\n",
       "      <td>Alec Guinness</td>\n",
       "      <td>actor</td>\n",
       "      <td>Ben Obi-Wan Kenobi</td>\n",
       "      <td>5.0</td>\n",
       "    </tr>\n",
       "    <tr>\n",
       "      <th>Star Wars</th>\n",
       "      <td>1977</td>\n",
       "      <td>David Prowse</td>\n",
       "      <td>actor</td>\n",
       "      <td>Darth Vader</td>\n",
       "      <td>9.0</td>\n",
       "    </tr>\n",
       "    <tr>\n",
       "      <th>Star Wars</th>\n",
       "      <td>1977</td>\n",
       "      <td>Carrie Fisher</td>\n",
       "      <td>actress</td>\n",
       "      <td>Princess Leia Organa</td>\n",
       "      <td>3.0</td>\n",
       "    </tr>\n",
       "    <tr>\n",
       "      <th>Star Wars</th>\n",
       "      <td>1977</td>\n",
       "      <td>Scott Beach</td>\n",
       "      <td>actor</td>\n",
       "      <td>Stormtrooper</td>\n",
       "      <td>NaN</td>\n",
       "    </tr>\n",
       "    <tr>\n",
       "      <th>Star Wars</th>\n",
       "      <td>1977</td>\n",
       "      <td>Pam Rose</td>\n",
       "      <td>actress</td>\n",
       "      <td>Leesub Sirln</td>\n",
       "      <td>NaN</td>\n",
       "    </tr>\n",
       "    <tr>\n",
       "      <th>Star Wars</th>\n",
       "      <td>1977</td>\n",
       "      <td>Jerry Walter</td>\n",
       "      <td>actor</td>\n",
       "      <td>Stormtrooper</td>\n",
       "      <td>NaN</td>\n",
       "    </tr>\n",
       "    <tr>\n",
       "      <th>Star Wars</th>\n",
       "      <td>1977</td>\n",
       "      <td>Harold Weed</td>\n",
       "      <td>actor</td>\n",
       "      <td>Melas</td>\n",
       "      <td>NaN</td>\n",
       "    </tr>\n",
       "    <tr>\n",
       "      <th>Star Wars</th>\n",
       "      <td>1977</td>\n",
       "      <td>Paul (II) Blake</td>\n",
       "      <td>actor</td>\n",
       "      <td>Greedo</td>\n",
       "      <td>NaN</td>\n",
       "    </tr>\n",
       "    <tr>\n",
       "      <th>Star Wars</th>\n",
       "      <td>1977</td>\n",
       "      <td>John Sylla</td>\n",
       "      <td>actor</td>\n",
       "      <td>Cantina Voices</td>\n",
       "      <td>NaN</td>\n",
       "    </tr>\n",
       "    <tr>\n",
       "      <th>Star Wars</th>\n",
       "      <td>1977</td>\n",
       "      <td>Jon Berg</td>\n",
       "      <td>actor</td>\n",
       "      <td>Cantina Alien</td>\n",
       "      <td>NaN</td>\n",
       "    </tr>\n",
       "    <tr>\n",
       "      <th>...</th>\n",
       "      <td>...</td>\n",
       "      <td>...</td>\n",
       "      <td>...</td>\n",
       "      <td>...</td>\n",
       "      <td>...</td>\n",
       "    </tr>\n",
       "    <tr>\n",
       "      <th>Star Wars</th>\n",
       "      <td>1977</td>\n",
       "      <td>Leslie Schofield</td>\n",
       "      <td>actor</td>\n",
       "      <td>Commander #1</td>\n",
       "      <td>26.0</td>\n",
       "    </tr>\n",
       "    <tr>\n",
       "      <th>Star Wars</th>\n",
       "      <td>1977</td>\n",
       "      <td>Warwick Diamond</td>\n",
       "      <td>actor</td>\n",
       "      <td>Jawa</td>\n",
       "      <td>NaN</td>\n",
       "    </tr>\n",
       "    <tr>\n",
       "      <th>Star Wars</th>\n",
       "      <td>1977</td>\n",
       "      <td>Harrison Ford</td>\n",
       "      <td>actor</td>\n",
       "      <td>Han Solo</td>\n",
       "      <td>2.0</td>\n",
       "    </tr>\n",
       "    <tr>\n",
       "      <th>Star Wars</th>\n",
       "      <td>1977</td>\n",
       "      <td>Phil Brown</td>\n",
       "      <td>actor</td>\n",
       "      <td>Uncle Owen</td>\n",
       "      <td>11.0</td>\n",
       "    </tr>\n",
       "    <tr>\n",
       "      <th>Star Wars</th>\n",
       "      <td>1977</td>\n",
       "      <td>Sadie Eden</td>\n",
       "      <td>actress</td>\n",
       "      <td>Garindan</td>\n",
       "      <td>NaN</td>\n",
       "    </tr>\n",
       "    <tr>\n",
       "      <th>Star Wars</th>\n",
       "      <td>1977</td>\n",
       "      <td>Gilda Cohen</td>\n",
       "      <td>actress</td>\n",
       "      <td>Cantina Patron</td>\n",
       "      <td>NaN</td>\n",
       "    </tr>\n",
       "    <tr>\n",
       "      <th>Star Wars</th>\n",
       "      <td>1977</td>\n",
       "      <td>Joe Johnston</td>\n",
       "      <td>actor</td>\n",
       "      <td>Death Star Trooper</td>\n",
       "      <td>NaN</td>\n",
       "    </tr>\n",
       "    <tr>\n",
       "      <th>Star Wars</th>\n",
       "      <td>1977</td>\n",
       "      <td>Drewe Henley</td>\n",
       "      <td>actor</td>\n",
       "      <td>Red Leader</td>\n",
       "      <td>16.0</td>\n",
       "    </tr>\n",
       "    <tr>\n",
       "      <th>Star Wars</th>\n",
       "      <td>1977</td>\n",
       "      <td>Nelson Hall</td>\n",
       "      <td>actor</td>\n",
       "      <td>Stormtrooper (special edition)</td>\n",
       "      <td>NaN</td>\n",
       "    </tr>\n",
       "    <tr>\n",
       "      <th>Star Wars</th>\n",
       "      <td>1977</td>\n",
       "      <td>Phil Tippett</td>\n",
       "      <td>actor</td>\n",
       "      <td>Cantina Alien</td>\n",
       "      <td>NaN</td>\n",
       "    </tr>\n",
       "    <tr>\n",
       "      <th>Star Wars</th>\n",
       "      <td>1977</td>\n",
       "      <td>Alf Mangan</td>\n",
       "      <td>actor</td>\n",
       "      <td>Takeel</td>\n",
       "      <td>NaN</td>\n",
       "    </tr>\n",
       "    <tr>\n",
       "      <th>Star Wars</th>\n",
       "      <td>1977</td>\n",
       "      <td>Kim Falkinburg</td>\n",
       "      <td>actress</td>\n",
       "      <td>Djas Puhr</td>\n",
       "      <td>NaN</td>\n",
       "    </tr>\n",
       "    <tr>\n",
       "      <th>Star Wars</th>\n",
       "      <td>1977</td>\n",
       "      <td>Harry Fielder</td>\n",
       "      <td>actor</td>\n",
       "      <td>Death Star Trooper</td>\n",
       "      <td>NaN</td>\n",
       "    </tr>\n",
       "    <tr>\n",
       "      <th>Star Wars</th>\n",
       "      <td>1977</td>\n",
       "      <td>Tim Condren</td>\n",
       "      <td>actor</td>\n",
       "      <td>Stormtrooper</td>\n",
       "      <td>NaN</td>\n",
       "    </tr>\n",
       "    <tr>\n",
       "      <th>Star Wars</th>\n",
       "      <td>1977</td>\n",
       "      <td>Derek Lyons</td>\n",
       "      <td>actor</td>\n",
       "      <td>Medal Bearer</td>\n",
       "      <td>NaN</td>\n",
       "    </tr>\n",
       "    <tr>\n",
       "      <th>Star Wars</th>\n",
       "      <td>1977</td>\n",
       "      <td>Mandy Morton</td>\n",
       "      <td>actress</td>\n",
       "      <td>Swilla Corey</td>\n",
       "      <td>NaN</td>\n",
       "    </tr>\n",
       "    <tr>\n",
       "      <th>Star Wars</th>\n",
       "      <td>1977</td>\n",
       "      <td>Denis Lawson</td>\n",
       "      <td>actor</td>\n",
       "      <td>Red Two (Wedge)</td>\n",
       "      <td>17.0</td>\n",
       "    </tr>\n",
       "    <tr>\n",
       "      <th>Star Wars</th>\n",
       "      <td>1977</td>\n",
       "      <td>Erica Simmons</td>\n",
       "      <td>actress</td>\n",
       "      <td>Tawss Khaa</td>\n",
       "      <td>NaN</td>\n",
       "    </tr>\n",
       "    <tr>\n",
       "      <th>Star Wars</th>\n",
       "      <td>1977</td>\n",
       "      <td>Peter (II) Mayhew</td>\n",
       "      <td>actor</td>\n",
       "      <td>Chewbacca</td>\n",
       "      <td>8.0</td>\n",
       "    </tr>\n",
       "    <tr>\n",
       "      <th>Star Wars</th>\n",
       "      <td>1977</td>\n",
       "      <td>Robert A. Denham</td>\n",
       "      <td>actor</td>\n",
       "      <td>Hrchek Kal Fas</td>\n",
       "      <td>NaN</td>\n",
       "    </tr>\n",
       "    <tr>\n",
       "      <th>Star Wars</th>\n",
       "      <td>1977</td>\n",
       "      <td>Robert (V) Davies</td>\n",
       "      <td>actor</td>\n",
       "      <td>Cantina Patron</td>\n",
       "      <td>NaN</td>\n",
       "    </tr>\n",
       "    <tr>\n",
       "      <th>Star Wars</th>\n",
       "      <td>1977</td>\n",
       "      <td>Alan (III) Harris</td>\n",
       "      <td>actor</td>\n",
       "      <td>Leia's Rebel Escort</td>\n",
       "      <td>NaN</td>\n",
       "    </tr>\n",
       "    <tr>\n",
       "      <th>Star Wars</th>\n",
       "      <td>1977</td>\n",
       "      <td>Derek Lyons</td>\n",
       "      <td>actor</td>\n",
       "      <td>Temple Guard</td>\n",
       "      <td>NaN</td>\n",
       "    </tr>\n",
       "    <tr>\n",
       "      <th>Star Wars</th>\n",
       "      <td>1977</td>\n",
       "      <td>Peter Diamond</td>\n",
       "      <td>actor</td>\n",
       "      <td>Tusken Raider</td>\n",
       "      <td>NaN</td>\n",
       "    </tr>\n",
       "    <tr>\n",
       "      <th>Star Wars</th>\n",
       "      <td>1977</td>\n",
       "      <td>Barry Gnome</td>\n",
       "      <td>actor</td>\n",
       "      <td>Kabe</td>\n",
       "      <td>NaN</td>\n",
       "    </tr>\n",
       "    <tr>\n",
       "      <th>Star Wars</th>\n",
       "      <td>1977</td>\n",
       "      <td>Peter Diamond</td>\n",
       "      <td>actor</td>\n",
       "      <td>Stormtrooper</td>\n",
       "      <td>NaN</td>\n",
       "    </tr>\n",
       "    <tr>\n",
       "      <th>Star Wars</th>\n",
       "      <td>1977</td>\n",
       "      <td>Peter Diamond</td>\n",
       "      <td>actor</td>\n",
       "      <td>Death Star Trooper</td>\n",
       "      <td>NaN</td>\n",
       "    </tr>\n",
       "    <tr>\n",
       "      <th>Star Wars</th>\n",
       "      <td>1977</td>\n",
       "      <td>Colin Michael Kitchens</td>\n",
       "      <td>actor</td>\n",
       "      <td>Stormtrooper</td>\n",
       "      <td>NaN</td>\n",
       "    </tr>\n",
       "    <tr>\n",
       "      <th>Star Wars</th>\n",
       "      <td>1977</td>\n",
       "      <td>Graham Ashley</td>\n",
       "      <td>actor</td>\n",
       "      <td>Gold Five</td>\n",
       "      <td>23.0</td>\n",
       "    </tr>\n",
       "    <tr>\n",
       "      <th>Star Wars</th>\n",
       "      <td>1977</td>\n",
       "      <td>Jeremy Sinden</td>\n",
       "      <td>actor</td>\n",
       "      <td>Gold Two</td>\n",
       "      <td>22.0</td>\n",
       "    </tr>\n",
       "  </tbody>\n",
       "</table>\n",
       "<p>113 rows × 5 columns</p>\n",
       "</div>"
      ],
      "text/plain": [
       "           year                    name     type  \\\n",
       "title                                              \n",
       "Star Wars  1977             Ted Burnett    actor   \n",
       "Star Wars  1977           Peter Cushing    actor   \n",
       "Star Wars  1977             Rusty Goffe    actor   \n",
       "Star Wars  1977                 Mahjoub    actor   \n",
       "Star Wars  1977             Harold Weed    actor   \n",
       "Star Wars  1977        James Earl Jones    actor   \n",
       "Star Wars  1977          Lorne Peterson    actor   \n",
       "Star Wars  1977             Rusty Goffe    actor   \n",
       "Star Wars  1977     Mark Anthony Austin    actor   \n",
       "Star Wars  1977             Rusty Goffe    actor   \n",
       "Star Wars  1977             Isaac Grand    actor   \n",
       "Star Wars  1977          Angela Staines  actress   \n",
       "Star Wars  1977      Arthur (II) Howell    actor   \n",
       "Star Wars  1977        Tiffany L. Kurtz  actress   \n",
       "Star Wars  1977           Melissa Kurtz  actress   \n",
       "Star Wars  1977        Janice Burchette  actress   \n",
       "Star Wars  1977    Richard LeParmentier    actor   \n",
       "Star Wars  1977            George Stock    actor   \n",
       "Star Wars  1977           Geoffrey Moon    actor   \n",
       "Star Wars  1977            Shane Rimmer    actor   \n",
       "Star Wars  1977           Alec Guinness    actor   \n",
       "Star Wars  1977            David Prowse    actor   \n",
       "Star Wars  1977           Carrie Fisher  actress   \n",
       "Star Wars  1977             Scott Beach    actor   \n",
       "Star Wars  1977                Pam Rose  actress   \n",
       "Star Wars  1977            Jerry Walter    actor   \n",
       "Star Wars  1977             Harold Weed    actor   \n",
       "Star Wars  1977         Paul (II) Blake    actor   \n",
       "Star Wars  1977              John Sylla    actor   \n",
       "Star Wars  1977                Jon Berg    actor   \n",
       "...         ...                     ...      ...   \n",
       "Star Wars  1977        Leslie Schofield    actor   \n",
       "Star Wars  1977         Warwick Diamond    actor   \n",
       "Star Wars  1977           Harrison Ford    actor   \n",
       "Star Wars  1977              Phil Brown    actor   \n",
       "Star Wars  1977              Sadie Eden  actress   \n",
       "Star Wars  1977             Gilda Cohen  actress   \n",
       "Star Wars  1977            Joe Johnston    actor   \n",
       "Star Wars  1977            Drewe Henley    actor   \n",
       "Star Wars  1977             Nelson Hall    actor   \n",
       "Star Wars  1977            Phil Tippett    actor   \n",
       "Star Wars  1977              Alf Mangan    actor   \n",
       "Star Wars  1977          Kim Falkinburg  actress   \n",
       "Star Wars  1977           Harry Fielder    actor   \n",
       "Star Wars  1977             Tim Condren    actor   \n",
       "Star Wars  1977             Derek Lyons    actor   \n",
       "Star Wars  1977            Mandy Morton  actress   \n",
       "Star Wars  1977            Denis Lawson    actor   \n",
       "Star Wars  1977           Erica Simmons  actress   \n",
       "Star Wars  1977       Peter (II) Mayhew    actor   \n",
       "Star Wars  1977        Robert A. Denham    actor   \n",
       "Star Wars  1977       Robert (V) Davies    actor   \n",
       "Star Wars  1977       Alan (III) Harris    actor   \n",
       "Star Wars  1977             Derek Lyons    actor   \n",
       "Star Wars  1977           Peter Diamond    actor   \n",
       "Star Wars  1977             Barry Gnome    actor   \n",
       "Star Wars  1977           Peter Diamond    actor   \n",
       "Star Wars  1977           Peter Diamond    actor   \n",
       "Star Wars  1977  Colin Michael Kitchens    actor   \n",
       "Star Wars  1977           Graham Ashley    actor   \n",
       "Star Wars  1977           Jeremy Sinden    actor   \n",
       "\n",
       "                                character     n  \n",
       "title                                            \n",
       "Star Wars                           Wuher   NaN  \n",
       "Star Wars               Grand Moff Tarkin   4.0  \n",
       "Star Wars                            Kabe   NaN  \n",
       "Star Wars                            Jawa   NaN  \n",
       "Star Wars                          Ketwol   NaN  \n",
       "Star Wars                     Darth Vader   NaN  \n",
       "Star Wars       Massassi Base Rebel Scout   NaN  \n",
       "Star Wars                      GONK Droid   NaN  \n",
       "Star Wars     Boba Fett (special edition)   NaN  \n",
       "Star Wars                            Jawa   NaN  \n",
       "Star Wars                  Cantina Patron   NaN  \n",
       "Star Wars                   Senni Tonnika   NaN  \n",
       "Star Wars                    Stormtrooper   NaN  \n",
       "Star Wars                            Jawa   NaN  \n",
       "Star Wars                            Jawa   NaN  \n",
       "Star Wars                    Nabrun Leids   NaN  \n",
       "Star Wars                   General Motti  25.0  \n",
       "Star Wars                  Cantina Patron   NaN  \n",
       "Star Wars                  Cantina Patron   NaN  \n",
       "Star Wars                  InCom Engineer   NaN  \n",
       "Star Wars              Ben Obi-Wan Kenobi   5.0  \n",
       "Star Wars                     Darth Vader   9.0  \n",
       "Star Wars            Princess Leia Organa   3.0  \n",
       "Star Wars                    Stormtrooper   NaN  \n",
       "Star Wars                    Leesub Sirln   NaN  \n",
       "Star Wars                    Stormtrooper   NaN  \n",
       "Star Wars                           Melas   NaN  \n",
       "Star Wars                          Greedo   NaN  \n",
       "Star Wars                  Cantina Voices   NaN  \n",
       "Star Wars                   Cantina Alien   NaN  \n",
       "...                                   ...   ...  \n",
       "Star Wars                    Commander #1  26.0  \n",
       "Star Wars                            Jawa   NaN  \n",
       "Star Wars                        Han Solo   2.0  \n",
       "Star Wars                      Uncle Owen  11.0  \n",
       "Star Wars                        Garindan   NaN  \n",
       "Star Wars                  Cantina Patron   NaN  \n",
       "Star Wars              Death Star Trooper   NaN  \n",
       "Star Wars                      Red Leader  16.0  \n",
       "Star Wars  Stormtrooper (special edition)   NaN  \n",
       "Star Wars                   Cantina Alien   NaN  \n",
       "Star Wars                          Takeel   NaN  \n",
       "Star Wars                       Djas Puhr   NaN  \n",
       "Star Wars              Death Star Trooper   NaN  \n",
       "Star Wars                    Stormtrooper   NaN  \n",
       "Star Wars                    Medal Bearer   NaN  \n",
       "Star Wars                    Swilla Corey   NaN  \n",
       "Star Wars                 Red Two (Wedge)  17.0  \n",
       "Star Wars                      Tawss Khaa   NaN  \n",
       "Star Wars                       Chewbacca   8.0  \n",
       "Star Wars                  Hrchek Kal Fas   NaN  \n",
       "Star Wars                  Cantina Patron   NaN  \n",
       "Star Wars             Leia's Rebel Escort   NaN  \n",
       "Star Wars                    Temple Guard   NaN  \n",
       "Star Wars                   Tusken Raider   NaN  \n",
       "Star Wars                            Kabe   NaN  \n",
       "Star Wars                    Stormtrooper   NaN  \n",
       "Star Wars              Death Star Trooper   NaN  \n",
       "Star Wars                    Stormtrooper   NaN  \n",
       "Star Wars                       Gold Five  23.0  \n",
       "Star Wars                        Gold Two  22.0  \n",
       "\n",
       "[113 rows x 5 columns]"
      ]
     },
     "execution_count": 44,
     "metadata": {},
     "output_type": "execute_result"
    }
   ],
   "source": [
    "%%time\n",
    "c.loc['Star Wars']\n",
    "#.loc helps reduce time, if the indexes are ordered (divide and conquer algorithm)"
   ]
  },
  {
   "cell_type": "code",
   "execution_count": null,
   "metadata": {
    "collapsed": true
   },
   "outputs": [],
   "source": []
  },
  {
   "cell_type": "code",
   "execution_count": 47,
   "metadata": {
    "collapsed": false
   },
   "outputs": [
    {
     "data": {
      "text/html": [
       "<div>\n",
       "<table border=\"1\" class=\"dataframe\">\n",
       "  <thead>\n",
       "    <tr style=\"text-align: right;\">\n",
       "      <th></th>\n",
       "      <th></th>\n",
       "      <th>name</th>\n",
       "      <th>type</th>\n",
       "      <th>character</th>\n",
       "      <th>n</th>\n",
       "    </tr>\n",
       "    <tr>\n",
       "      <th>title</th>\n",
       "      <th>year</th>\n",
       "      <th></th>\n",
       "      <th></th>\n",
       "      <th></th>\n",
       "      <th></th>\n",
       "    </tr>\n",
       "  </thead>\n",
       "  <tbody>\n",
       "    <tr>\n",
       "      <th rowspan=\"5\" valign=\"top\">#1 Serial Killer</th>\n",
       "      <th>2013</th>\n",
       "      <td>Michael Alton</td>\n",
       "      <td>actor</td>\n",
       "      <td>Detective Roberts</td>\n",
       "      <td>17.0</td>\n",
       "    </tr>\n",
       "    <tr>\n",
       "      <th>2013</th>\n",
       "      <td>Aaron Aoki</td>\n",
       "      <td>actor</td>\n",
       "      <td>Plastic Bag Victim</td>\n",
       "      <td>21.0</td>\n",
       "    </tr>\n",
       "    <tr>\n",
       "      <th>2013</th>\n",
       "      <td>Zachary (X) Brown</td>\n",
       "      <td>actor</td>\n",
       "      <td>Africian American Teen</td>\n",
       "      <td>18.0</td>\n",
       "    </tr>\n",
       "    <tr>\n",
       "      <th>2013</th>\n",
       "      <td>Yvis Cannavale</td>\n",
       "      <td>actor</td>\n",
       "      <td>Homeless Man</td>\n",
       "      <td>25.0</td>\n",
       "    </tr>\n",
       "    <tr>\n",
       "      <th>2013</th>\n",
       "      <td>Patrick Chien</td>\n",
       "      <td>actor</td>\n",
       "      <td>Cleaver Victim</td>\n",
       "      <td>22.0</td>\n",
       "    </tr>\n",
       "  </tbody>\n",
       "</table>\n",
       "</div>"
      ],
      "text/plain": [
       "                                    name   type               character     n\n",
       "title            year                                                        \n",
       "#1 Serial Killer 2013      Michael Alton  actor       Detective Roberts  17.0\n",
       "                 2013         Aaron Aoki  actor      Plastic Bag Victim  21.0\n",
       "                 2013  Zachary (X) Brown  actor  Africian American Teen  18.0\n",
       "                 2013     Yvis Cannavale  actor            Homeless Man  25.0\n",
       "                 2013      Patrick Chien  actor          Cleaver Victim  22.0"
      ]
     },
     "execution_count": 47,
     "metadata": {},
     "output_type": "execute_result"
    }
   ],
   "source": [
    "c = cast.set_index(['title', 'year']).sort_index()\n",
    "#two level index\n",
    "c.head()"
   ]
  },
  {
   "cell_type": "code",
   "execution_count": 49,
   "metadata": {
    "collapsed": false
   },
   "outputs": [
    {
     "name": "stdout",
     "output_type": "stream",
     "text": [
      "CPU times: user 44.1 ms, sys: 32 ms, total: 76.1 ms\n",
      "Wall time: 75.6 ms\n"
     ]
    },
    {
     "data": {
      "text/html": [
       "<div>\n",
       "<table border=\"1\" class=\"dataframe\">\n",
       "  <thead>\n",
       "    <tr style=\"text-align: right;\">\n",
       "      <th></th>\n",
       "      <th>name</th>\n",
       "      <th>type</th>\n",
       "      <th>character</th>\n",
       "      <th>n</th>\n",
       "    </tr>\n",
       "    <tr>\n",
       "      <th>year</th>\n",
       "      <th></th>\n",
       "      <th></th>\n",
       "      <th></th>\n",
       "      <th></th>\n",
       "    </tr>\n",
       "  </thead>\n",
       "  <tbody>\n",
       "    <tr>\n",
       "      <th>1972</th>\n",
       "      <td>Michael Caine</td>\n",
       "      <td>actor</td>\n",
       "      <td>Milo Tindle</td>\n",
       "      <td>2.0</td>\n",
       "    </tr>\n",
       "    <tr>\n",
       "      <th>1972</th>\n",
       "      <td>Alec Cawthorne</td>\n",
       "      <td>actor</td>\n",
       "      <td>Inspector Doppler</td>\n",
       "      <td>3.0</td>\n",
       "    </tr>\n",
       "    <tr>\n",
       "      <th>1972</th>\n",
       "      <td>Teddy Martin</td>\n",
       "      <td>actor</td>\n",
       "      <td>Police Constable Higgs</td>\n",
       "      <td>6.0</td>\n",
       "    </tr>\n",
       "    <tr>\n",
       "      <th>1972</th>\n",
       "      <td>John (II) Matthews</td>\n",
       "      <td>actor</td>\n",
       "      <td>Detective Sergeant Tarrant</td>\n",
       "      <td>4.0</td>\n",
       "    </tr>\n",
       "    <tr>\n",
       "      <th>1972</th>\n",
       "      <td>Laurence Olivier</td>\n",
       "      <td>actor</td>\n",
       "      <td>Andrew Wyke</td>\n",
       "      <td>1.0</td>\n",
       "    </tr>\n",
       "  </tbody>\n",
       "</table>\n",
       "</div>"
      ],
      "text/plain": [
       "                    name   type                   character    n\n",
       "year                                                            \n",
       "1972       Michael Caine  actor                 Milo Tindle  2.0\n",
       "1972      Alec Cawthorne  actor           Inspector Doppler  3.0\n",
       "1972        Teddy Martin  actor      Police Constable Higgs  6.0\n",
       "1972  John (II) Matthews  actor  Detective Sergeant Tarrant  4.0\n",
       "1972    Laurence Olivier  actor                 Andrew Wyke  1.0"
      ]
     },
     "execution_count": 49,
     "metadata": {},
     "output_type": "execute_result"
    }
   ],
   "source": [
    "%%time\n",
    "c.loc['Sleuth'].head()"
   ]
  },
  {
   "cell_type": "code",
   "execution_count": 52,
   "metadata": {
    "collapsed": false
   },
   "outputs": [
    {
     "name": "stdout",
     "output_type": "stream",
     "text": [
      "CPU times: user 46.4 ms, sys: 36.3 ms, total: 82.7 ms\n",
      "Wall time: 82.2 ms\n"
     ]
    },
    {
     "data": {
      "text/html": [
       "<div>\n",
       "<table border=\"1\" class=\"dataframe\">\n",
       "  <thead>\n",
       "    <tr style=\"text-align: right;\">\n",
       "      <th></th>\n",
       "      <th></th>\n",
       "      <th>name</th>\n",
       "      <th>type</th>\n",
       "      <th>character</th>\n",
       "      <th>n</th>\n",
       "    </tr>\n",
       "    <tr>\n",
       "      <th>title</th>\n",
       "      <th>year</th>\n",
       "      <th></th>\n",
       "      <th></th>\n",
       "      <th></th>\n",
       "      <th></th>\n",
       "    </tr>\n",
       "  </thead>\n",
       "  <tbody>\n",
       "    <tr>\n",
       "      <th rowspan=\"5\" valign=\"top\">Sleuth</th>\n",
       "      <th>1972</th>\n",
       "      <td>Michael Caine</td>\n",
       "      <td>actor</td>\n",
       "      <td>Milo Tindle</td>\n",
       "      <td>2.0</td>\n",
       "    </tr>\n",
       "    <tr>\n",
       "      <th>1972</th>\n",
       "      <td>Alec Cawthorne</td>\n",
       "      <td>actor</td>\n",
       "      <td>Inspector Doppler</td>\n",
       "      <td>3.0</td>\n",
       "    </tr>\n",
       "    <tr>\n",
       "      <th>1972</th>\n",
       "      <td>Teddy Martin</td>\n",
       "      <td>actor</td>\n",
       "      <td>Police Constable Higgs</td>\n",
       "      <td>6.0</td>\n",
       "    </tr>\n",
       "    <tr>\n",
       "      <th>1972</th>\n",
       "      <td>John (II) Matthews</td>\n",
       "      <td>actor</td>\n",
       "      <td>Detective Sergeant Tarrant</td>\n",
       "      <td>4.0</td>\n",
       "    </tr>\n",
       "    <tr>\n",
       "      <th>1972</th>\n",
       "      <td>Laurence Olivier</td>\n",
       "      <td>actor</td>\n",
       "      <td>Andrew Wyke</td>\n",
       "      <td>1.0</td>\n",
       "    </tr>\n",
       "  </tbody>\n",
       "</table>\n",
       "</div>"
      ],
      "text/plain": [
       "                           name   type                   character    n\n",
       "title  year                                                            \n",
       "Sleuth 1972       Michael Caine  actor                 Milo Tindle  2.0\n",
       "       1972      Alec Cawthorne  actor           Inspector Doppler  3.0\n",
       "       1972        Teddy Martin  actor      Police Constable Higgs  6.0\n",
       "       1972  John (II) Matthews  actor  Detective Sergeant Tarrant  4.0\n",
       "       1972    Laurence Olivier  actor                 Andrew Wyke  1.0"
      ]
     },
     "execution_count": 52,
     "metadata": {},
     "output_type": "execute_result"
    }
   ],
   "source": [
    "%%time\n",
    "#c.loc['Sleuth'].loc[1972].head() #or\n",
    "c.loc['Sleuth', 1972].head()"
   ]
  },
  {
   "cell_type": "code",
   "execution_count": 56,
   "metadata": {
    "collapsed": false
   },
   "outputs": [
    {
     "data": {
      "text/html": [
       "<div>\n",
       "<table border=\"1\" class=\"dataframe\">\n",
       "  <thead>\n",
       "    <tr style=\"text-align: right;\">\n",
       "      <th></th>\n",
       "      <th>title</th>\n",
       "      <th>year</th>\n",
       "      <th>name</th>\n",
       "      <th>type</th>\n",
       "      <th>character</th>\n",
       "      <th>n</th>\n",
       "    </tr>\n",
       "  </thead>\n",
       "  <tbody>\n",
       "    <tr>\n",
       "      <th>0</th>\n",
       "      <td>Sleuth</td>\n",
       "      <td>1972</td>\n",
       "      <td>Michael Caine</td>\n",
       "      <td>actor</td>\n",
       "      <td>Milo Tindle</td>\n",
       "      <td>2.0</td>\n",
       "    </tr>\n",
       "    <tr>\n",
       "      <th>1</th>\n",
       "      <td>Sleuth</td>\n",
       "      <td>1972</td>\n",
       "      <td>Alec Cawthorne</td>\n",
       "      <td>actor</td>\n",
       "      <td>Inspector Doppler</td>\n",
       "      <td>3.0</td>\n",
       "    </tr>\n",
       "    <tr>\n",
       "      <th>2</th>\n",
       "      <td>Sleuth</td>\n",
       "      <td>1972</td>\n",
       "      <td>Teddy Martin</td>\n",
       "      <td>actor</td>\n",
       "      <td>Police Constable Higgs</td>\n",
       "      <td>6.0</td>\n",
       "    </tr>\n",
       "    <tr>\n",
       "      <th>3</th>\n",
       "      <td>Sleuth</td>\n",
       "      <td>1972</td>\n",
       "      <td>John (II) Matthews</td>\n",
       "      <td>actor</td>\n",
       "      <td>Detective Sergeant Tarrant</td>\n",
       "      <td>4.0</td>\n",
       "    </tr>\n",
       "    <tr>\n",
       "      <th>4</th>\n",
       "      <td>Sleuth</td>\n",
       "      <td>1972</td>\n",
       "      <td>Laurence Olivier</td>\n",
       "      <td>actor</td>\n",
       "      <td>Andrew Wyke</td>\n",
       "      <td>1.0</td>\n",
       "    </tr>\n",
       "    <tr>\n",
       "      <th>5</th>\n",
       "      <td>Sleuth</td>\n",
       "      <td>1972</td>\n",
       "      <td>Eve (III) Channing</td>\n",
       "      <td>actress</td>\n",
       "      <td>Marguerite Wyke</td>\n",
       "      <td>5.0</td>\n",
       "    </tr>\n",
       "  </tbody>\n",
       "</table>\n",
       "</div>"
      ],
      "text/plain": [
       "    title  year                name     type                   character    n\n",
       "0  Sleuth  1972       Michael Caine    actor                 Milo Tindle  2.0\n",
       "1  Sleuth  1972      Alec Cawthorne    actor           Inspector Doppler  3.0\n",
       "2  Sleuth  1972        Teddy Martin    actor      Police Constable Higgs  6.0\n",
       "3  Sleuth  1972  John (II) Matthews    actor  Detective Sergeant Tarrant  4.0\n",
       "4  Sleuth  1972    Laurence Olivier    actor                 Andrew Wyke  1.0\n",
       "5  Sleuth  1972  Eve (III) Channing  actress             Marguerite Wyke  5.0"
      ]
     },
     "execution_count": 56,
     "metadata": {},
     "output_type": "execute_result"
    }
   ],
   "source": [
    "#c.loc['Sleuth', 1972].reset_index('year')\n",
    "#c.loc['Sleuth', 1972].reset_index('title')\n",
    "c.loc['Sleuth', 1972].reset_index(['year', 'title'])"
   ]
  },
  {
   "cell_type": "code",
   "execution_count": null,
   "metadata": {
    "collapsed": true
   },
   "outputs": [],
   "source": []
  },
  {
   "cell_type": "code",
   "execution_count": null,
   "metadata": {
    "collapsed": true
   },
   "outputs": [],
   "source": []
  },
  {
   "cell_type": "code",
   "execution_count": null,
   "metadata": {
    "collapsed": true
   },
   "outputs": [],
   "source": []
  },
  {
   "cell_type": "markdown",
   "metadata": {},
   "source": [
    "# GROUPBY"
   ]
  },
  {
   "cell_type": "code",
   "execution_count": 60,
   "metadata": {
    "collapsed": false
   },
   "outputs": [
    {
     "data": {
      "text/plain": [
       "year  title                               character               \n",
       "1983  Grizzly II: The Concert             Ron                         1\n",
       "1987  Return to Horror High               Oliver                      1\n",
       "1988  Return of the Killer Tomatoes!      Matt Stevens                1\n",
       "1992  The Harvest                         Lip Syncing Transvestite    1\n",
       "      Unbecoming Age                      Mac                         1\n",
       "1996  Curdled                             Seth Gecko                  1\n",
       "      From Dusk Till Dawn                 Seth Gecko                  1\n",
       "      One Fine Day                        Jack Taylor                 1\n",
       "1997  Batman & Robin                      Batman                      1\n",
       "                                          Bruce Wayne                 1\n",
       "      The Peacemaker                      Lt. Col. Thomas Devoe       1\n",
       "1998  Out of Sight                        Jack Foley                  1\n",
       "      The Thin Red Line                   Capt. Charles Bosche        1\n",
       "1999  South Park: Bigger, Longer & Uncut  Dr. Gouache                 1\n",
       "      The Book That Wrote Itself          Himself                     1\n",
       "      The Limey                           Himself                     1\n",
       "      Three Kings                         Archie Gates                1\n",
       "2000  O Brother, Where Art Thou?          Everett                     1\n",
       "      The Perfect Storm                   Billy Tyne                  1\n",
       "2001  Ocean's Eleven                      Danny Ocean                 1\n",
       "      Spy Kids                            Devlin                      1\n",
       "2002  Confessions of a Dangerous Mind     Jim Byrd                    1\n",
       "      Solaris                             Chris Kelvin                1\n",
       "      Welcome to Collinwood               Jerzy                       1\n",
       "2003  Intolerable Cruelty                 Miles                       1\n",
       "      Spy Kids 3-D: Game Over             Devlin                      1\n",
       "2004  Ocean's Twelve                      Danny Ocean                 1\n",
       "2005  Good Night, and Good Luck.          Fred Friendly               1\n",
       "      Syriana                             Bob Barnes                  1\n",
       "2006  The Good German                     Jake Geismer                1\n",
       "2007  Michael Clayton                     Michael Clayton             1\n",
       "      Ocean's Thirteen                    Danny Ocean                 1\n",
       "2008  Burn After Reading                  Harry Pfarrer               1\n",
       "      Leatherheads                        Dodge Connelly              1\n",
       "2009  Fantastic Mr. Fox                   Mr. Fox                     1\n",
       "      The Men Who Stare at Goats          Lyn Cassady                 1\n",
       "      Up in the Air                       Ryan Bingham                1\n",
       "2010  Morning Glory                       Himself                     1\n",
       "      The American                        Edward                      1\n",
       "                                          Jack                        1\n",
       "2011  The Descendants                     Matt King                   1\n",
       "      The Ides of March                   Governor Mike Morris        1\n",
       "2013  Gravity                             Matt Kowalski               1\n",
       "2014  The Monuments Men                   Frank Stokes                1\n",
       "2015  A Very Murray Christmas             George Clooney              1\n",
       "      Tomorrowland                        Frank Walker                1\n",
       "2016  Hail, Caesar!                       Baird Whitlock              1\n",
       "      Money Monster                       Lee Gates                   1\n",
       "dtype: int64"
      ]
     },
     "execution_count": 60,
     "metadata": {},
     "output_type": "execute_result"
    }
   ],
   "source": [
    "c = cast\n",
    "c = c[c.name == 'George Clooney']\n",
    "c.groupby(['year', 'title', 'character']).size() #groupby makes an object waiting for an operation, in this case .size"
   ]
  },
  {
   "cell_type": "code",
   "execution_count": 63,
   "metadata": {
    "collapsed": false
   },
   "outputs": [
    {
     "data": {
      "text/plain": [
       "<matplotlib.axes._subplots.AxesSubplot at 0x1b5e77128>"
      ]
     },
     "execution_count": 63,
     "metadata": {},
     "output_type": "execute_result"
    },
    {
     "data": {
      "image/png": "[encoded data removed]",
      "text/plain": [
       "<matplotlib.figure.Figure at 0x1b5e7d630>"
      ]
     },
     "metadata": {},
     "output_type": "display_data"
    }
   ],
   "source": [
    "c = cast\n",
    "c = c[c.name == 'George Clooney']\n",
    "c.groupby(['year']).size().plot(ylim=0, style = '.')"
   ]
  },
  {
   "cell_type": "code",
   "execution_count": 67,
   "metadata": {
    "collapsed": false
   },
   "outputs": [
    {
     "data": {
      "text/plain": [
       "year\n",
       "1980     3\n",
       "1990    14\n",
       "2000    20\n",
       "2010    11\n",
       "dtype: int64"
      ]
     },
     "execution_count": 67,
     "metadata": {},
     "output_type": "execute_result"
    }
   ],
   "source": [
    "c = cast\n",
    "c = c[c.name == 'George Clooney']\n",
    "#c.groupby(['year']).n.min()\n",
    "#you can group by any series, even if it's not part of the dataframe\n",
    "c.groupby(c.year // 10 * 10).n.size() #decades are not in the table, however i group by this new series"
   ]
  },
  {
   "cell_type": "code",
   "execution_count": null,
   "metadata": {
    "collapsed": true
   },
   "outputs": [],
   "source": []
  },
  {
   "cell_type": "code",
   "execution_count": null,
   "metadata": {
    "collapsed": true
   },
   "outputs": [],
   "source": []
  },
  {
   "cell_type": "code",
   "execution_count": null,
   "metadata": {
    "collapsed": true
   },
   "outputs": [],
   "source": []
  },
  {
   "cell_type": "markdown",
   "metadata": {},
   "source": [
    "# Stack and unstack"
   ]
  },
  {
   "cell_type": "code",
   "execution_count": null,
   "metadata": {
    "collapsed": true
   },
   "outputs": [],
   "source": []
  },
  {
   "cell_type": "code",
   "execution_count": 116,
   "metadata": {
    "collapsed": false
   },
   "outputs": [
    {
     "data": {
      "text/plain": [
       "year  type   \n",
       "1890  actor           2\n",
       "      actress         1\n",
       "1900  actor          54\n",
       "      actress        16\n",
       "1910  actor       27106\n",
       "      actress     15497\n",
       "1920  actor       47899\n",
       "      actress     23588\n",
       "1930  actor      149982\n",
       "      actress     49150\n",
       "1940  actor      160845\n",
       "      actress     51076\n",
       "1950  actor      155223\n",
       "      actress     56470\n",
       "1960  actor      131147\n",
       "      actress     56080\n",
       "1970  actor      150174\n",
       "      actress     65114\n",
       "1980  actor      193995\n",
       "      actress     89389\n",
       "1990  actor      259368\n",
       "      actress    122605\n",
       "2000  actor      485639\n",
       "      actress    261139\n",
       "2010  actor      696604\n",
       "      actress    390440\n",
       "2020  actor         159\n",
       "      actress        82\n",
       "dtype: int64"
      ]
     },
     "execution_count": 116,
     "metadata": {},
     "output_type": "execute_result"
    }
   ],
   "source": [
    "#get the groupby by more than one argument; one argument is a new series\n",
    "c = cast\n",
    "c.groupby([c.year // 10 * 10, 'type']).size()"
   ]
  },
  {
   "cell_type": "code",
   "execution_count": 121,
   "metadata": {
    "collapsed": false
   },
   "outputs": [
    {
     "data": {
      "text/plain": [
       "character         year\n",
       "Kermit the Frog   1970    1\n",
       "                  1980    4\n",
       "                  1990    2\n",
       "                  2000    1\n",
       "                  2010    1\n",
       "Oscar the Grouch  1980    2\n",
       "                  1990    1\n",
       "                  2000    1\n",
       "dtype: int64"
      ]
     },
     "execution_count": 121,
     "metadata": {},
     "output_type": "execute_result"
    }
   ],
   "source": [
    "#unstack operation\n",
    "c = cast\n",
    "c = c[(c.character == 'Kermit the Frog') | (c.character == 'Oscar the Grouch')]\n",
    "g = c.groupby(['character', c.year // 10 * 10]).size()\n",
    "g"
   ]
  },
  {
   "cell_type": "code",
   "execution_count": 140,
   "metadata": {
    "collapsed": false
   },
   "outputs": [
    {
     "data": {
      "text/html": [
       "<div>\n",
       "<table border=\"1\" class=\"dataframe\">\n",
       "  <thead>\n",
       "    <tr style=\"text-align: right;\">\n",
       "      <th>character</th>\n",
       "      <th>Kermit the Frog</th>\n",
       "      <th>Oscar the Grouch</th>\n",
       "    </tr>\n",
       "    <tr>\n",
       "      <th>year</th>\n",
       "      <th></th>\n",
       "      <th></th>\n",
       "    </tr>\n",
       "  </thead>\n",
       "  <tbody>\n",
       "    <tr>\n",
       "      <th>1970</th>\n",
       "      <td>1.0</td>\n",
       "      <td>0.0</td>\n",
       "    </tr>\n",
       "    <tr>\n",
       "      <th>1980</th>\n",
       "      <td>4.0</td>\n",
       "      <td>2.0</td>\n",
       "    </tr>\n",
       "    <tr>\n",
       "      <th>1990</th>\n",
       "      <td>2.0</td>\n",
       "      <td>1.0</td>\n",
       "    </tr>\n",
       "    <tr>\n",
       "      <th>2000</th>\n",
       "      <td>1.0</td>\n",
       "      <td>1.0</td>\n",
       "    </tr>\n",
       "    <tr>\n",
       "      <th>2010</th>\n",
       "      <td>1.0</td>\n",
       "      <td>0.0</td>\n",
       "    </tr>\n",
       "  </tbody>\n",
       "</table>\n",
       "</div>"
      ],
      "text/plain": [
       "character  Kermit the Frog  Oscar the Grouch\n",
       "year                                        \n",
       "1970                   1.0               0.0\n",
       "1980                   4.0               2.0\n",
       "1990                   2.0               1.0\n",
       "2000                   1.0               1.0\n",
       "2010                   1.0               0.0"
      ]
     },
     "execution_count": 140,
     "metadata": {},
     "output_type": "execute_result"
    }
   ],
   "source": [
    "u = g.unstack(0).fillna(0) #fillna instead of looking a NaN\n",
    "#0 is the character, 1 is the year\n",
    "u"
   ]
  },
  {
   "cell_type": "code",
   "execution_count": null,
   "metadata": {
    "collapsed": true
   },
   "outputs": [],
   "source": []
  },
  {
   "cell_type": "code",
   "execution_count": 141,
   "metadata": {
    "collapsed": false
   },
   "outputs": [
    {
     "data": {
      "text/plain": [
       "year\n",
       "1970    1.0\n",
       "1980    2.0\n",
       "1990    1.0\n",
       "2000    0.0\n",
       "2010    1.0\n",
       "dtype: float64"
      ]
     },
     "execution_count": 141,
     "metadata": {},
     "output_type": "execute_result"
    }
   ],
   "source": [
    "u['Kermit the Frog'] - u['Oscar the Grouch']"
   ]
  },
  {
   "cell_type": "code",
   "execution_count": 138,
   "metadata": {
    "collapsed": false
   },
   "outputs": [
    {
     "data": {
      "text/plain": [
       "year  character       \n",
       "1970  Kermit the Frog     1.0\n",
       "1980  Kermit the Frog     4.0\n",
       "      Oscar the Grouch    2.0\n",
       "1990  Kermit the Frog     2.0\n",
       "      Oscar the Grouch    1.0\n",
       "2000  Kermit the Frog     1.0\n",
       "      Oscar the Grouch    1.0\n",
       "2010  Kermit the Frog     1.0\n",
       "dtype: float64"
      ]
     },
     "execution_count": 138,
     "metadata": {},
     "output_type": "execute_result"
    }
   ],
   "source": [
    "u.stack() #the reverse operation"
   ]
  },
  {
   "cell_type": "code",
   "execution_count": 146,
   "metadata": {
    "collapsed": false
   },
   "outputs": [
    {
     "data": {
      "text/html": [
       "<div>\n",
       "<table border=\"1\" class=\"dataframe\">\n",
       "  <thead>\n",
       "    <tr>\n",
       "      <th>character</th>\n",
       "      <th colspan=\"5\" halign=\"left\">Kermit the Frog</th>\n",
       "      <th colspan=\"5\" halign=\"left\">Oscar the Grouch</th>\n",
       "    </tr>\n",
       "    <tr>\n",
       "      <th>year</th>\n",
       "      <th>1970</th>\n",
       "      <th>1980</th>\n",
       "      <th>1990</th>\n",
       "      <th>2000</th>\n",
       "      <th>2010</th>\n",
       "      <th>1970</th>\n",
       "      <th>1980</th>\n",
       "      <th>1990</th>\n",
       "      <th>2000</th>\n",
       "      <th>2010</th>\n",
       "    </tr>\n",
       "    <tr>\n",
       "      <th>extra</th>\n",
       "      <th></th>\n",
       "      <th></th>\n",
       "      <th></th>\n",
       "      <th></th>\n",
       "      <th></th>\n",
       "      <th></th>\n",
       "      <th></th>\n",
       "      <th></th>\n",
       "      <th></th>\n",
       "      <th></th>\n",
       "    </tr>\n",
       "  </thead>\n",
       "  <tbody>\n",
       "    <tr>\n",
       "      <th>1</th>\n",
       "      <td>1.0</td>\n",
       "      <td>4.0</td>\n",
       "      <td>2.0</td>\n",
       "      <td>1.0</td>\n",
       "      <td>1.0</td>\n",
       "      <td>NaN</td>\n",
       "      <td>2.0</td>\n",
       "      <td>1.0</td>\n",
       "      <td>1.0</td>\n",
       "      <td>NaN</td>\n",
       "    </tr>\n",
       "  </tbody>\n",
       "</table>\n",
       "</div>"
      ],
      "text/plain": [
       "character Kermit the Frog                     Oscar the Grouch                 \\\n",
       "year                 1970 1980 1990 2000 2010             1970 1980 1990 2000   \n",
       "extra                                                                           \n",
       "1                     1.0  4.0  2.0  1.0  1.0              NaN  2.0  1.0  1.0   \n",
       "\n",
       "character       \n",
       "year      2010  \n",
       "extra           \n",
       "1          NaN  "
      ]
     },
     "execution_count": 146,
     "metadata": {},
     "output_type": "execute_result"
    }
   ],
   "source": [
    "df = g.unstack('character')\n",
    "df['extra'] = 1\n",
    "df = df.set_index('extra', append = True)\n",
    "df.unstack(0)\n",
    "#the row index should never be empty with unstack or i'll get a sereis"
   ]
  },
  {
   "cell_type": "code",
   "execution_count": null,
   "metadata": {
    "collapsed": true
   },
   "outputs": [],
   "source": []
  },
  {
   "cell_type": "code",
   "execution_count": null,
   "metadata": {
    "collapsed": true
   },
   "outputs": [],
   "source": []
  },
  {
   "cell_type": "code",
   "execution_count": null,
   "metadata": {
    "collapsed": true
   },
   "outputs": [],
   "source": []
  },
  {
   "cell_type": "code",
   "execution_count": null,
   "metadata": {
    "collapsed": true
   },
   "outputs": [],
   "source": []
  },
  {
   "cell_type": "code",
   "execution_count": null,
   "metadata": {
    "collapsed": true
   },
   "outputs": [],
   "source": []
  },
  {
   "cell_type": "code",
   "execution_count": null,
   "metadata": {
    "collapsed": true
   },
   "outputs": [],
   "source": []
  },
  {
   "cell_type": "code",
   "execution_count": null,
   "metadata": {
    "collapsed": true
   },
   "outputs": [],
   "source": []
  },
  {
   "cell_type": "code",
   "execution_count": null,
   "metadata": {
    "collapsed": true
   },
   "outputs": [],
   "source": []
  },
  {
   "cell_type": "code",
   "execution_count": null,
   "metadata": {
    "collapsed": true
   },
   "outputs": [],
   "source": []
  },
  {
   "cell_type": "code",
   "execution_count": null,
   "metadata": {
    "collapsed": true
   },
   "outputs": [],
   "source": []
  }
 ],
 "metadata": {
  "anaconda-cloud": {},
  "kernelspec": {
   "display_name": "Python [default]",
   "language": "python",
   "name": "python3"
  },
  "language_info": {
   "codemirror_mode": {
    "name": "ipython",
    "version": 3
   },
   "file_extension": ".py",
   "mimetype": "text/x-python",
   "name": "python",
   "nbconvert_exporter": "python",
   "pygments_lexer": "ipython3",
   "version": "3.5.2"
  }
 },
 "nbformat": 4,
 "nbformat_minor": 0
}
